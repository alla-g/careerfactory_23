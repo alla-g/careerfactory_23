{
  "cells": [
    {
      "cell_type": "markdown",
      "metadata": {
        "id": "view-in-github",
        "colab_type": "text"
      },
      "source": [
        "<a href=\"https://colab.research.google.com/github/alla-g/careerfactory_23/blob/main/Data%20processing.ipynb\" target=\"_parent\"><img src=\"https://colab.research.google.com/assets/colab-badge.svg\" alt=\"Open In Colab\"/></a>"
      ]
    },
    {
      "cell_type": "markdown",
      "metadata": {
        "id": "bTWEFwH3Hv2p"
      },
      "source": [
        "# Задание\n",
        "https://glebk.notion.site/25-2023-5818bea5801244c9bbab34648cfbf77d\n",
        "\n",
        "HeadHunter - популярнейший сервис по поиску работы соискателем, а также поиска сотрудников работодателями.\n",
        "\n",
        "Один из ключевых элементов сервиса — поисковое ядро, которое по запросу пользователя подбирает ему отранжированный список вакансий.  Пользователь может перейти в каждую вакансию на странице поисковой выдачи (SERP) и откликнуться на неё.\n",
        "\n",
        "Мы в HeadHunter решили не отставать от времени и внедрить современные решения. У каждой вакансии на serp’е отображается краткое описание и логотип, который указывает компания-работодателя. Мы хотим попробовать заменить описание и логотип на автоматически сгенерированные с помощью нейронных сетей (типа ChatGPT и Midjourney), тем самым повысив привлекательность вакансии и увеличить количество откликов на нее.\n",
        "\n",
        "Как data-driven компания, мы не запустим такую функцию без тестирования и выкатим её через A/B-тест.\n",
        "\n",
        "**Ваша задача** — выбрать методологию и дизайн такого теста. Для этого нужно определить объект тестирования и принцип разделения на группы, а также рассчитать, какой эффект мы сможем статистически значимо отследить.\n",
        "\n",
        "**В качестве целевой метрики в А/В используйте долю вакансий, у которых данный скор меньше определенного числа (пусть будет 3).**\n",
        "\n",
        "Нужно учесть, что наш поиск — умный, и в алгоритме ранжирования в онлайне учитываются просмотры и отклики на каждую вакансию, сделанные за последние несколько дней/часов. Возможно, вам стоить знать, что как и любой поиск, у нас наблюдается position bias.\n",
        "\n",
        "### Задание\n",
        "\n",
        "1. Опишите методологию и дизайн теста. Почему сделали такой выбор?\n",
        "    1. Определите объект тестирования и принцип разделения на группы.\n",
        "    2. Рассчитайте, какой эффект можно статистически значимо отследить. Укажите его."
      ]
    },
    {
      "cell_type": "code",
      "execution_count": null,
      "metadata": {
        "id": "FbgvGydxHv22"
      },
      "outputs": [],
      "source": [
        "import pandas as pd\n",
        "import numpy as np\n",
        "import matplotlib.pyplot as plt\n",
        "%matplotlib inline\n",
        "\n",
        "from scipy import stats"
      ]
    },
    {
      "cell_type": "markdown",
      "metadata": {
        "id": "pbVgzRGKHv25"
      },
      "source": [
        "## Загрузка и разведочный анализ"
      ]
    },
    {
      "cell_type": "markdown",
      "metadata": {
        "id": "H5OTDU5iHv25"
      },
      "source": [
        "### Serp'ы"
      ]
    },
    {
      "cell_type": "code",
      "source": [
        "!pip install gdown"
      ],
      "metadata": {
        "id": "Q7kN_bJdKY_E"
      },
      "execution_count": null,
      "outputs": []
    },
    {
      "cell_type": "code",
      "source": [
        "# для работы в колабе\n",
        "!gdown https://drive.google.com/uc?id=1kikgAyfPvMqzwO5u4WP0Jg7xcpJzPWwI"
      ],
      "metadata": {
        "colab": {
          "base_uri": "https://localhost:8080/"
        },
        "id": "FfmQjicVIq0k",
        "outputId": "0f6d2edc-157c-472b-990e-42f77ff1c62c"
      },
      "execution_count": null,
      "outputs": [
        {
          "output_type": "stream",
          "name": "stdout",
          "text": [
            "Downloading...\n",
            "From: https://drive.google.com/uc?id=1kikgAyfPvMqzwO5u4WP0Jg7xcpJzPWwI\n",
            "To: /content/serps.csv\n",
            "100% 125M/125M [00:01<00:00, 83.8MB/s]\n"
          ]
        }
      ]
    },
    {
      "cell_type": "code",
      "execution_count": null,
      "metadata": {
        "id": "z4oPZ_1wHv26"
      },
      "outputs": [],
      "source": [
        "serp_df = pd.read_csv('serps.csv')"
      ]
    },
    {
      "cell_type": "code",
      "execution_count": null,
      "metadata": {
        "id": "91Bi8MAPHv26",
        "outputId": "6ec98004-68b0-4af3-960f-161d1bd85ef6"
      },
      "outputs": [
        {
          "data": {
            "text/html": [
              "<div>\n",
              "<style scoped>\n",
              "    .dataframe tbody tr th:only-of-type {\n",
              "        vertical-align: middle;\n",
              "    }\n",
              "\n",
              "    .dataframe tbody tr th {\n",
              "        vertical-align: top;\n",
              "    }\n",
              "\n",
              "    .dataframe thead th {\n",
              "        text-align: right;\n",
              "    }\n",
              "</style>\n",
              "<table border=\"1\" class=\"dataframe\">\n",
              "  <thead>\n",
              "    <tr style=\"text-align: right;\">\n",
              "      <th></th>\n",
              "      <th>request_id</th>\n",
              "      <th>vacancy_id_conv</th>\n",
              "      <th>city</th>\n",
              "      <th>applicant</th>\n",
              "    </tr>\n",
              "  </thead>\n",
              "  <tbody>\n",
              "    <tr>\n",
              "      <th>0</th>\n",
              "      <td>168719525526659303f2dee867dc6eda</td>\n",
              "      <td>48019</td>\n",
              "      <td>Moscow</td>\n",
              "      <td>78076</td>\n",
              "    </tr>\n",
              "    <tr>\n",
              "      <th>1</th>\n",
              "      <td>168719525526659303f2dee867dc6eda</td>\n",
              "      <td>45120</td>\n",
              "      <td>Moscow</td>\n",
              "      <td>614859</td>\n",
              "    </tr>\n",
              "    <tr>\n",
              "      <th>2</th>\n",
              "      <td>168719525526659303f2dee867dc6eda</td>\n",
              "      <td>18132</td>\n",
              "      <td>Moscow</td>\n",
              "      <td>175212</td>\n",
              "    </tr>\n",
              "    <tr>\n",
              "      <th>3</th>\n",
              "      <td>168719525526659303f2dee867dc6eda</td>\n",
              "      <td>29942</td>\n",
              "      <td>Moscow</td>\n",
              "      <td>322643</td>\n",
              "    </tr>\n",
              "    <tr>\n",
              "      <th>4</th>\n",
              "      <td>168719525526659303f2dee867dc6eda</td>\n",
              "      <td>32658</td>\n",
              "      <td>Moscow</td>\n",
              "      <td>722260</td>\n",
              "    </tr>\n",
              "    <tr>\n",
              "      <th>...</th>\n",
              "      <td>...</td>\n",
              "      <td>...</td>\n",
              "      <td>...</td>\n",
              "      <td>...</td>\n",
              "    </tr>\n",
              "    <tr>\n",
              "      <th>2431591</th>\n",
              "      <td>16871839548434b4f62891daa5d10fd3</td>\n",
              "      <td>1102</td>\n",
              "      <td>Samara</td>\n",
              "      <td>156365</td>\n",
              "    </tr>\n",
              "    <tr>\n",
              "      <th>2431592</th>\n",
              "      <td>1687164459878871f4f0832e5fb53b5f</td>\n",
              "      <td>5170</td>\n",
              "      <td>Samara</td>\n",
              "      <td>615232</td>\n",
              "    </tr>\n",
              "    <tr>\n",
              "      <th>2431593</th>\n",
              "      <td>1687153595384444d2da11ecd811f7c4</td>\n",
              "      <td>8001</td>\n",
              "      <td>Samara</td>\n",
              "      <td>478614</td>\n",
              "    </tr>\n",
              "    <tr>\n",
              "      <th>2431594</th>\n",
              "      <td>168716903797271e492f2306df102cf8</td>\n",
              "      <td>28428</td>\n",
              "      <td>Samara</td>\n",
              "      <td>901182</td>\n",
              "    </tr>\n",
              "    <tr>\n",
              "      <th>2431595</th>\n",
              "      <td>16871753732401a1ed4f5810bbb1f699</td>\n",
              "      <td>36839</td>\n",
              "      <td>Samara</td>\n",
              "      <td>103716</td>\n",
              "    </tr>\n",
              "  </tbody>\n",
              "</table>\n",
              "<p>2431596 rows × 4 columns</p>\n",
              "</div>"
            ],
            "text/plain": [
              "                               request_id  vacancy_id_conv    city  applicant\n",
              "0        168719525526659303f2dee867dc6eda            48019  Moscow      78076\n",
              "1        168719525526659303f2dee867dc6eda            45120  Moscow     614859\n",
              "2        168719525526659303f2dee867dc6eda            18132  Moscow     175212\n",
              "3        168719525526659303f2dee867dc6eda            29942  Moscow     322643\n",
              "4        168719525526659303f2dee867dc6eda            32658  Moscow     722260\n",
              "...                                   ...              ...     ...        ...\n",
              "2431591  16871839548434b4f62891daa5d10fd3             1102  Samara     156365\n",
              "2431592  1687164459878871f4f0832e5fb53b5f             5170  Samara     615232\n",
              "2431593  1687153595384444d2da11ecd811f7c4             8001  Samara     478614\n",
              "2431594  168716903797271e492f2306df102cf8            28428  Samara     901182\n",
              "2431595  16871753732401a1ed4f5810bbb1f699            36839  Samara     103716\n",
              "\n",
              "[2431596 rows x 4 columns]"
            ]
          },
          "execution_count": 3,
          "metadata": {},
          "output_type": "execute_result"
        }
      ],
      "source": [
        "serp_df"
      ]
    },
    {
      "cell_type": "code",
      "execution_count": null,
      "metadata": {
        "id": "fXlDpV42Hv2_"
      },
      "outputs": [],
      "source": [
        "# переведём id реквестов, вакансий и соискателей в строки, чтобы посчитать статистику\n",
        "\n",
        "serp_df['request_id'] = serp_df['request_id'].astype('string')\n",
        "serp_df['vacancy_id_conv'] = serp_df['vacancy_id_conv'].astype('string')\n",
        "serp_df['applicant'] = serp_df['applicant'].astype('string')"
      ]
    },
    {
      "cell_type": "code",
      "execution_count": null,
      "metadata": {
        "id": "R_-G2Q36Hv3A",
        "outputId": "73d8ca35-784e-4752-887d-b51887765d56"
      },
      "outputs": [
        {
          "data": {
            "text/html": [
              "<div>\n",
              "<style scoped>\n",
              "    .dataframe tbody tr th:only-of-type {\n",
              "        vertical-align: middle;\n",
              "    }\n",
              "\n",
              "    .dataframe tbody tr th {\n",
              "        vertical-align: top;\n",
              "    }\n",
              "\n",
              "    .dataframe thead th {\n",
              "        text-align: right;\n",
              "    }\n",
              "</style>\n",
              "<table border=\"1\" class=\"dataframe\">\n",
              "  <thead>\n",
              "    <tr style=\"text-align: right;\">\n",
              "      <th></th>\n",
              "      <th>request_id</th>\n",
              "      <th>vacancy_id_conv</th>\n",
              "      <th>city</th>\n",
              "      <th>applicant</th>\n",
              "    </tr>\n",
              "  </thead>\n",
              "  <tbody>\n",
              "    <tr>\n",
              "      <th>count</th>\n",
              "      <td>2431596</td>\n",
              "      <td>2431596</td>\n",
              "      <td>2431596</td>\n",
              "      <td>2431596</td>\n",
              "    </tr>\n",
              "    <tr>\n",
              "      <th>unique</th>\n",
              "      <td>1000000</td>\n",
              "      <td>55500</td>\n",
              "      <td>5</td>\n",
              "      <td>911862</td>\n",
              "    </tr>\n",
              "    <tr>\n",
              "      <th>top</th>\n",
              "      <td>1687161453850e0bd12d3e10d9dbf2d3</td>\n",
              "      <td>13960</td>\n",
              "      <td>Moscow</td>\n",
              "      <td>903199</td>\n",
              "    </tr>\n",
              "    <tr>\n",
              "      <th>freq</th>\n",
              "      <td>50</td>\n",
              "      <td>22899</td>\n",
              "      <td>785767</td>\n",
              "      <td>12</td>\n",
              "    </tr>\n",
              "  </tbody>\n",
              "</table>\n",
              "</div>"
            ],
            "text/plain": [
              "                              request_id vacancy_id_conv     city applicant\n",
              "count                            2431596         2431596  2431596   2431596\n",
              "unique                           1000000           55500        5    911862\n",
              "top     1687161453850e0bd12d3e10d9dbf2d3           13960   Moscow    903199\n",
              "freq                                  50           22899   785767        12"
            ]
          },
          "execution_count": 5,
          "metadata": {},
          "output_type": "execute_result"
        }
      ],
      "source": [
        "serp_df.describe(include='all')"
      ]
    },
    {
      "cell_type": "markdown",
      "metadata": {
        "id": "tSx_CQLoHv3B"
      },
      "source": [
        "**request_id** - миллион уникальных поисковых выдач, самая длинная содержит 50 вакансий\n",
        "\n",
        "**vacancy_id_conv** - 55 500 уникальных вакансий, число совпадает с таблицей метрик\n",
        "\n",
        "**city** - всего 5 городов, самый популярный город Москва\n",
        "\n",
        "**applicant** - 911 862 уникальных соискателя, самый интересующийся видел 12 разных serp'ов"
      ]
    },
    {
      "cell_type": "code",
      "execution_count": null,
      "metadata": {
        "id": "vXqjOEWCHv3C",
        "outputId": "4aec24e9-5c8f-4157-c58b-6c80c3dc455d"
      },
      "outputs": [
        {
          "data": {
            "text/plain": [
              "Moscow    785767\n",
              "SPb       592298\n",
              "Kazan     456466\n",
              "Penza     347974\n",
              "Samara    249091\n",
              "Name: city, dtype: int64"
            ]
          },
          "execution_count": 6,
          "metadata": {},
          "output_type": "execute_result"
        }
      ],
      "source": [
        "serp_df['city'].value_counts()"
      ]
    },
    {
      "cell_type": "code",
      "execution_count": null,
      "metadata": {
        "id": "g_M6FjnjHv3D",
        "outputId": "59dba9b6-864a-49ce-c4c9-d5f15b4e7378"
      },
      "outputs": [
        {
          "data": {
            "image/png": "[encoded data removed]",
            "text/plain": [
              "<Figure size 432x288 with 1 Axes>"
            ]
          },
          "metadata": {
            "needs_background": "light"
          },
          "output_type": "display_data"
        }
      ],
      "source": [
        "serp_df['city'].value_counts().plot(kind='bar', color='slategrey')\n",
        "plt.show()"
      ]
    },
    {
      "cell_type": "markdown",
      "metadata": {
        "id": "7E3BvYbiHv3E"
      },
      "source": [
        "Посмотрим, как распределена длина serp'ов (длина serp'а - количество вакансий, которые к ней относятся)"
      ]
    },
    {
      "cell_type": "code",
      "execution_count": null,
      "metadata": {
        "id": "AMhK4kd_Hv3F",
        "outputId": "45df48c6-32e3-4ac4-8be7-7e899f0705c2"
      },
      "outputs": [
        {
          "data": {
            "image/png": "[encoded data removed]",
            "text/plain": [
              "<Figure size 720x432 with 1 Axes>"
            ]
          },
          "metadata": {
            "needs_background": "light"
          },
          "output_type": "display_data"
        }
      ],
      "source": [
        "plt.figure(figsize=(10,6))\n",
        "\n",
        "serp_df.groupby(['request_id'])['request_id'].agg('count').plot.hist(color='slategrey')\n",
        "\n",
        "plt.title('Распределение количества результатов в выдаче')\n",
        "plt.xlabel('Количество вакансий в выдаче')\n",
        "plt.ylabel('Количество выдач')\n",
        "plt.show()"
      ]
    },
    {
      "cell_type": "code",
      "execution_count": null,
      "metadata": {
        "id": "9_ItTN98Hv3G",
        "outputId": "b0b56551-7a54-4f53-fdb9-881e3e1f236f"
      },
      "outputs": [
        {
          "data": {
            "text/html": [
              "<div>\n",
              "<style scoped>\n",
              "    .dataframe tbody tr th:only-of-type {\n",
              "        vertical-align: middle;\n",
              "    }\n",
              "\n",
              "    .dataframe tbody tr th {\n",
              "        vertical-align: top;\n",
              "    }\n",
              "\n",
              "    .dataframe thead th {\n",
              "        text-align: right;\n",
              "    }\n",
              "</style>\n",
              "<table border=\"1\" class=\"dataframe\">\n",
              "  <thead>\n",
              "    <tr style=\"text-align: right;\">\n",
              "      <th></th>\n",
              "      <th>request_id</th>\n",
              "    </tr>\n",
              "  </thead>\n",
              "  <tbody>\n",
              "    <tr>\n",
              "      <th>count</th>\n",
              "      <td>1000000.000000</td>\n",
              "    </tr>\n",
              "    <tr>\n",
              "      <th>mean</th>\n",
              "      <td>2.431596</td>\n",
              "    </tr>\n",
              "    <tr>\n",
              "      <th>std</th>\n",
              "      <td>2.290122</td>\n",
              "    </tr>\n",
              "    <tr>\n",
              "      <th>min</th>\n",
              "      <td>1.000000</td>\n",
              "    </tr>\n",
              "    <tr>\n",
              "      <th>25%</th>\n",
              "      <td>1.000000</td>\n",
              "    </tr>\n",
              "    <tr>\n",
              "      <th>50%</th>\n",
              "      <td>2.000000</td>\n",
              "    </tr>\n",
              "    <tr>\n",
              "      <th>75%</th>\n",
              "      <td>3.000000</td>\n",
              "    </tr>\n",
              "    <tr>\n",
              "      <th>max</th>\n",
              "      <td>50.000000</td>\n",
              "    </tr>\n",
              "  </tbody>\n",
              "</table>\n",
              "</div>"
            ],
            "text/plain": [
              "           request_id\n",
              "count  1000000.000000\n",
              "mean         2.431596\n",
              "std          2.290122\n",
              "min          1.000000\n",
              "25%          1.000000\n",
              "50%          2.000000\n",
              "75%          3.000000\n",
              "max         50.000000"
            ]
          },
          "execution_count": 9,
          "metadata": {},
          "output_type": "execute_result"
        }
      ],
      "source": [
        "pd.DataFrame(serp_df.groupby(['request_id'])['request_id'].agg('count')).describe()"
      ]
    },
    {
      "cell_type": "markdown",
      "metadata": {
        "id": "YCuBTCZOHv3H"
      },
      "source": [
        "Максимальная длина выдачи - 50 вакансий, но такое встречается очень редко. Большинство выдач содержат от 1 до 5 вакансий, в среднем 2.4"
      ]
    },
    {
      "cell_type": "markdown",
      "metadata": {
        "id": "4ERJI2j4Hv3I"
      },
      "source": [
        "### Метрики"
      ]
    },
    {
      "cell_type": "code",
      "source": [
        "# для работы в колабе\n",
        "!gdown https://drive.google.com/uc?id=19Qmn2IyTx7M7R-P1m8yA_OPQ1D1aTyIx"
      ],
      "metadata": {
        "colab": {
          "base_uri": "https://localhost:8080/"
        },
        "id": "Zq6PZRRwH0Xs",
        "outputId": "7e54b6b1-974b-4a53-d1fb-f52a2539a90c"
      },
      "execution_count": null,
      "outputs": [
        {
          "output_type": "stream",
          "name": "stdout",
          "text": [
            "Downloading...\n",
            "From: https://drive.google.com/uc?id=19Qmn2IyTx7M7R-P1m8yA_OPQ1D1aTyIx\n",
            "To: /content/vacs_metrics (1).csv\n",
            "\r  0% 0.00/1.60M [00:00<?, ?B/s]\r100% 1.60M/1.60M [00:00<00:00, 141MB/s]\n"
          ]
        }
      ]
    },
    {
      "cell_type": "code",
      "execution_count": null,
      "metadata": {
        "id": "e3aPRBQ2Hv3J"
      },
      "outputs": [],
      "source": [
        "metrics_df = pd.read_csv('vacs_metrics (1).csv')"
      ]
    },
    {
      "cell_type": "code",
      "execution_count": null,
      "metadata": {
        "id": "HjUgzzxzHv3J",
        "outputId": "8677e14c-5a21-4701-fab0-27355e55a6eb"
      },
      "outputs": [
        {
          "data": {
            "text/html": [
              "<div>\n",
              "<style scoped>\n",
              "    .dataframe tbody tr th:only-of-type {\n",
              "        vertical-align: middle;\n",
              "    }\n",
              "\n",
              "    .dataframe tbody tr th {\n",
              "        vertical-align: top;\n",
              "    }\n",
              "\n",
              "    .dataframe thead th {\n",
              "        text-align: right;\n",
              "    }\n",
              "</style>\n",
              "<table border=\"1\" class=\"dataframe\">\n",
              "  <thead>\n",
              "    <tr style=\"text-align: right;\">\n",
              "      <th></th>\n",
              "      <th>vacancy_id_conv</th>\n",
              "      <th>metric_full</th>\n",
              "      <th>emplpyer_id</th>\n",
              "    </tr>\n",
              "  </thead>\n",
              "  <tbody>\n",
              "    <tr>\n",
              "      <th>0</th>\n",
              "      <td>1</td>\n",
              "      <td>5.250818</td>\n",
              "      <td>640</td>\n",
              "    </tr>\n",
              "    <tr>\n",
              "      <th>1</th>\n",
              "      <td>2</td>\n",
              "      <td>5.808587</td>\n",
              "      <td>5123</td>\n",
              "    </tr>\n",
              "    <tr>\n",
              "      <th>2</th>\n",
              "      <td>3</td>\n",
              "      <td>2.830297</td>\n",
              "      <td>3325</td>\n",
              "    </tr>\n",
              "    <tr>\n",
              "      <th>3</th>\n",
              "      <td>4</td>\n",
              "      <td>5.179469</td>\n",
              "      <td>3511</td>\n",
              "    </tr>\n",
              "    <tr>\n",
              "      <th>4</th>\n",
              "      <td>5</td>\n",
              "      <td>5.457955</td>\n",
              "      <td>6604</td>\n",
              "    </tr>\n",
              "    <tr>\n",
              "      <th>...</th>\n",
              "      <td>...</td>\n",
              "      <td>...</td>\n",
              "      <td>...</td>\n",
              "    </tr>\n",
              "    <tr>\n",
              "      <th>55495</th>\n",
              "      <td>58338</td>\n",
              "      <td>2.825501</td>\n",
              "      <td>1900</td>\n",
              "    </tr>\n",
              "    <tr>\n",
              "      <th>55496</th>\n",
              "      <td>58339</td>\n",
              "      <td>0.842977</td>\n",
              "      <td>2173</td>\n",
              "    </tr>\n",
              "    <tr>\n",
              "      <th>55497</th>\n",
              "      <td>58342</td>\n",
              "      <td>-0.628653</td>\n",
              "      <td>1110</td>\n",
              "    </tr>\n",
              "    <tr>\n",
              "      <th>55498</th>\n",
              "      <td>58343</td>\n",
              "      <td>1.892471</td>\n",
              "      <td>9611</td>\n",
              "    </tr>\n",
              "    <tr>\n",
              "      <th>55499</th>\n",
              "      <td>58346</td>\n",
              "      <td>4.093952</td>\n",
              "      <td>9683</td>\n",
              "    </tr>\n",
              "  </tbody>\n",
              "</table>\n",
              "<p>55500 rows × 3 columns</p>\n",
              "</div>"
            ],
            "text/plain": [
              "       vacancy_id_conv  metric_full  emplpyer_id\n",
              "0                    1     5.250818          640\n",
              "1                    2     5.808587         5123\n",
              "2                    3     2.830297         3325\n",
              "3                    4     5.179469         3511\n",
              "4                    5     5.457955         6604\n",
              "...                ...          ...          ...\n",
              "55495            58338     2.825501         1900\n",
              "55496            58339     0.842977         2173\n",
              "55497            58342    -0.628653         1110\n",
              "55498            58343     1.892471         9611\n",
              "55499            58346     4.093952         9683\n",
              "\n",
              "[55500 rows x 3 columns]"
            ]
          },
          "execution_count": 11,
          "metadata": {},
          "output_type": "execute_result"
        }
      ],
      "source": [
        "metrics_df"
      ]
    },
    {
      "cell_type": "code",
      "execution_count": null,
      "metadata": {
        "id": "vOo7JspXHv3K"
      },
      "outputs": [],
      "source": [
        "# переведём id вакансий и метрик в строки, чтобы посчитать статистику\n",
        "\n",
        "metrics_df['vacancy_id_conv'] = metrics_df['vacancy_id_conv'].astype('string')\n",
        "metrics_df['employer_id'] = metrics_df['emplpyer_id'].astype('string')  # заодно переименуем\n",
        "metrics_df.drop(['emplpyer_id'], axis=1, inplace=True)"
      ]
    },
    {
      "cell_type": "code",
      "execution_count": null,
      "metadata": {
        "id": "MrdIlFlAHv3K",
        "outputId": "c52029f2-7cd6-4aa4-a41f-4dab4887c079"
      },
      "outputs": [
        {
          "data": {
            "text/html": [
              "<div>\n",
              "<style scoped>\n",
              "    .dataframe tbody tr th:only-of-type {\n",
              "        vertical-align: middle;\n",
              "    }\n",
              "\n",
              "    .dataframe tbody tr th {\n",
              "        vertical-align: top;\n",
              "    }\n",
              "\n",
              "    .dataframe thead th {\n",
              "        text-align: right;\n",
              "    }\n",
              "</style>\n",
              "<table border=\"1\" class=\"dataframe\">\n",
              "  <thead>\n",
              "    <tr style=\"text-align: right;\">\n",
              "      <th></th>\n",
              "      <th>vacancy_id_conv</th>\n",
              "      <th>employer_id</th>\n",
              "    </tr>\n",
              "  </thead>\n",
              "  <tbody>\n",
              "    <tr>\n",
              "      <th>count</th>\n",
              "      <td>55500</td>\n",
              "      <td>55500</td>\n",
              "    </tr>\n",
              "    <tr>\n",
              "      <th>unique</th>\n",
              "      <td>55500</td>\n",
              "      <td>9961</td>\n",
              "    </tr>\n",
              "    <tr>\n",
              "      <th>top</th>\n",
              "      <td>44454</td>\n",
              "      <td>798</td>\n",
              "    </tr>\n",
              "    <tr>\n",
              "      <th>freq</th>\n",
              "      <td>1</td>\n",
              "      <td>18</td>\n",
              "    </tr>\n",
              "  </tbody>\n",
              "</table>\n",
              "</div>"
            ],
            "text/plain": [
              "       vacancy_id_conv employer_id\n",
              "count            55500       55500\n",
              "unique           55500        9961\n",
              "top              44454         798\n",
              "freq                 1          18"
            ]
          },
          "execution_count": 13,
          "metadata": {},
          "output_type": "execute_result"
        }
      ],
      "source": [
        "metrics_df.describe(include='string')"
      ]
    },
    {
      "cell_type": "code",
      "execution_count": null,
      "metadata": {
        "id": "EbUU4wB4Hv3L",
        "outputId": "1007af3f-d571-402d-db5e-148a707028a9"
      },
      "outputs": [
        {
          "data": {
            "text/html": [
              "<div>\n",
              "<style scoped>\n",
              "    .dataframe tbody tr th:only-of-type {\n",
              "        vertical-align: middle;\n",
              "    }\n",
              "\n",
              "    .dataframe tbody tr th {\n",
              "        vertical-align: top;\n",
              "    }\n",
              "\n",
              "    .dataframe thead th {\n",
              "        text-align: right;\n",
              "    }\n",
              "</style>\n",
              "<table border=\"1\" class=\"dataframe\">\n",
              "  <thead>\n",
              "    <tr style=\"text-align: right;\">\n",
              "      <th></th>\n",
              "      <th>metric_full</th>\n",
              "    </tr>\n",
              "  </thead>\n",
              "  <tbody>\n",
              "    <tr>\n",
              "      <th>count</th>\n",
              "      <td>55500.000000</td>\n",
              "    </tr>\n",
              "    <tr>\n",
              "      <th>mean</th>\n",
              "      <td>4.393625</td>\n",
              "    </tr>\n",
              "    <tr>\n",
              "      <th>std</th>\n",
              "      <td>1.430828</td>\n",
              "    </tr>\n",
              "    <tr>\n",
              "      <th>min</th>\n",
              "      <td>-2.259488</td>\n",
              "    </tr>\n",
              "    <tr>\n",
              "      <th>25%</th>\n",
              "      <td>3.609140</td>\n",
              "    </tr>\n",
              "    <tr>\n",
              "      <th>50%</th>\n",
              "      <td>4.562120</td>\n",
              "    </tr>\n",
              "    <tr>\n",
              "      <th>75%</th>\n",
              "      <td>5.372227</td>\n",
              "    </tr>\n",
              "    <tr>\n",
              "      <th>max</th>\n",
              "      <td>8.949871</td>\n",
              "    </tr>\n",
              "  </tbody>\n",
              "</table>\n",
              "</div>"
            ],
            "text/plain": [
              "        metric_full\n",
              "count  55500.000000\n",
              "mean       4.393625\n",
              "std        1.430828\n",
              "min       -2.259488\n",
              "25%        3.609140\n",
              "50%        4.562120\n",
              "75%        5.372227\n",
              "max        8.949871"
            ]
          },
          "execution_count": 14,
          "metadata": {},
          "output_type": "execute_result"
        }
      ],
      "source": [
        "metrics_df.describe()"
      ]
    },
    {
      "cell_type": "markdown",
      "metadata": {
        "id": "flShOCFrHv3L"
      },
      "source": [
        "**vacancy_id_conv** - колонка валидна, все id уникальны, встречаются строго по одному разу. Дубликатов вакансий нет\n",
        "\n",
        "**employer_id** - колонка валидна, всего 9961 уникальный работодатель, самый популярный имеет 18 вакансий\n",
        "\n",
        "**metric_full** - метрика принимает значения от -2.26 до 8.95, среднее значение 4.39"
      ]
    },
    {
      "cell_type": "markdown",
      "metadata": {
        "id": "pHI-9MsFHv3M"
      },
      "source": [
        "Отметим заданное пороговое значение метрики - 3"
      ]
    },
    {
      "cell_type": "code",
      "execution_count": null,
      "metadata": {
        "id": "x9Pc-jhwHv3M",
        "outputId": "3dde4455-b56a-485c-cd83-779138b08333"
      },
      "outputs": [
        {
          "data": {
            "image/png": "[encoded data removed]",
            "text/plain": [
              "<Figure size 720x432 with 1 Axes>"
            ]
          },
          "metadata": {
            "needs_background": "light"
          },
          "output_type": "display_data"
        }
      ],
      "source": [
        "plt.figure(figsize=(10,6))\n",
        "\n",
        "metrics_df['metric_full'].plot.hist(bins = 20, color='slategrey', label='все значения')\n",
        "\n",
        "plt.axvline(x=3, color='orange', label='значение = 3')\n",
        "plt.xlabel('Значение метрики', fontsize='large')\n",
        "plt.ylabel('Частота', fontsize='large')\n",
        "plt.legend()\n",
        "plt.show()"
      ]
    },
    {
      "cell_type": "code",
      "execution_count": null,
      "metadata": {
        "id": "43xUJ1-pHv3M",
        "outputId": "32634efc-22c8-4cfb-92c1-ee4df643560f"
      },
      "outputs": [
        {
          "name": "stdout",
          "output_type": "stream",
          "text": [
            "Процент \"плохих\" вакансий: 15.31%\n",
            "Процент \"хороших\" вакансий: 84.69%\n"
          ]
        }
      ],
      "source": [
        "print(f\"Процент \\\"плохих\\\" вакансий: {round(len(metrics_df[metrics_df['metric_full'] < 3]) / len(metrics_df) * 100, 2)}%\")\n",
        "print(f\"Процент \\\"хороших\\\" вакансий: {round(len(metrics_df[metrics_df['metric_full'] >= 3]) / len(metrics_df) * 100, 2)}%\")"
      ]
    },
    {
      "cell_type": "markdown",
      "metadata": {
        "id": "TN4w4UbUHv3N"
      },
      "source": [
        "## Проверка на нормальность"
      ]
    },
    {
      "cell_type": "code",
      "execution_count": null,
      "metadata": {
        "id": "EubkSednHv3N",
        "outputId": "e3df9d3c-eb9b-485f-a3f3-9f8222d8f72a"
      },
      "outputs": [
        {
          "data": {
            "image/png": "[encoded data removed]",
            "text/plain": [
              "<Figure size 936x792 with 2 Axes>"
            ]
          },
          "metadata": {
            "needs_background": "light"
          },
          "output_type": "display_data"
        }
      ],
      "source": [
        "# qq plot\n",
        "\n",
        "sample = metrics_df['metric_full']\n",
        "\n",
        "fig = plt.figure(figsize=(13,11))\n",
        "ax = fig.add_subplot(211)\n",
        "plt.hist(sample, bins = 20, color='slategrey')\n",
        "plt.title('Распределение метрики', fontsize='x-large')\n",
        "plt.xlabel('Значение', fontsize='large')\n",
        "plt.ylabel('Частота', fontsize='large')\n",
        "\n",
        "ax2 = fig.add_subplot(212)\n",
        "stats.probplot(sample, dist = \"norm\", plot = plt, fit=True, rvalue=True)\n",
        "plt.title('Q-Q plot', fontsize='x-large')\n",
        "plt.ylabel('Упорядоченные значения', fontsize='large')\n",
        "plt.xlabel('Теоретические квантили', fontsize='large')\n",
        "ax2.get_lines()[0].set_markerfacecolor('slategrey')\n",
        "ax2.get_lines()[0].set_markeredgecolor('slategrey')\n",
        "\n",
        "plt.show()"
      ]
    },
    {
      "cell_type": "code",
      "execution_count": null,
      "metadata": {
        "id": "rQ4Ye23jHv3O",
        "outputId": "56505279-3422-45d4-ad09-aa07b2043bdb"
      },
      "outputs": [
        {
          "data": {
            "text/plain": [
              "(0.9747731685638428, 0.0)"
            ]
          },
          "execution_count": 85,
          "metadata": {},
          "output_type": "execute_result"
        }
      ],
      "source": [
        "stats.shapiro(sample)"
      ]
    },
    {
      "cell_type": "markdown",
      "metadata": {
        "id": "vPzoXizXHv3Q"
      },
      "source": [
        "Результат 0.97 позволяет считать, что наше распределение достаточно приближено к нормальному"
      ]
    },
    {
      "cell_type": "markdown",
      "metadata": {
        "id": "YevEevQOHv3Q"
      },
      "source": [
        "## Расчёт параметров теста"
      ]
    },
    {
      "cell_type": "code",
      "execution_count": null,
      "metadata": {
        "id": "6e2bIJrSHv3R"
      },
      "outputs": [],
      "source": [
        "import math\n",
        "from statsmodels.stats.proportion import proportion_effectsize\n",
        "from statsmodels.stats.power import NormalIndPower"
      ]
    },
    {
      "cell_type": "code",
      "execution_count": null,
      "metadata": {
        "id": "nLGKxFU9Hv3R"
      },
      "outputs": [],
      "source": [
        "alpha = 0.05\n",
        "power = 0.8\n",
        "\n",
        "power_analysis = NormalIndPower()"
      ]
    },
    {
      "cell_type": "code",
      "execution_count": null,
      "metadata": {
        "id": "cpI6SdvhHv3S",
        "outputId": "17d78655-d0c1-49da-b6e1-f1e3ead8dea6"
      },
      "outputs": [
        {
          "data": {
            "text/html": [
              "<div>\n",
              "<style scoped>\n",
              "    .dataframe tbody tr th:only-of-type {\n",
              "        vertical-align: middle;\n",
              "    }\n",
              "\n",
              "    .dataframe tbody tr th {\n",
              "        vertical-align: top;\n",
              "    }\n",
              "\n",
              "    .dataframe thead th {\n",
              "        text-align: right;\n",
              "    }\n",
              "</style>\n",
              "<table border=\"1\" class=\"dataframe\">\n",
              "  <thead>\n",
              "    <tr style=\"text-align: right;\">\n",
              "      <th></th>\n",
              "      <th>vacancy_id_conv</th>\n",
              "      <th>metric_full</th>\n",
              "      <th>employer_id</th>\n",
              "    </tr>\n",
              "  </thead>\n",
              "  <tbody>\n",
              "    <tr>\n",
              "      <th>2</th>\n",
              "      <td>3</td>\n",
              "      <td>2.830297</td>\n",
              "      <td>3325</td>\n",
              "    </tr>\n",
              "    <tr>\n",
              "      <th>36</th>\n",
              "      <td>37</td>\n",
              "      <td>2.718547</td>\n",
              "      <td>5685</td>\n",
              "    </tr>\n",
              "    <tr>\n",
              "      <th>51</th>\n",
              "      <td>52</td>\n",
              "      <td>2.840717</td>\n",
              "      <td>4405</td>\n",
              "    </tr>\n",
              "    <tr>\n",
              "      <th>58</th>\n",
              "      <td>59</td>\n",
              "      <td>2.770307</td>\n",
              "      <td>5415</td>\n",
              "    </tr>\n",
              "    <tr>\n",
              "      <th>60</th>\n",
              "      <td>61</td>\n",
              "      <td>0.789023</td>\n",
              "      <td>5325</td>\n",
              "    </tr>\n",
              "  </tbody>\n",
              "</table>\n",
              "</div>"
            ],
            "text/plain": [
              "   vacancy_id_conv  metric_full employer_id\n",
              "2                3     2.830297        3325\n",
              "36              37     2.718547        5685\n",
              "51              52     2.840717        4405\n",
              "58              59     2.770307        5415\n",
              "60              61     0.789023        5325"
            ]
          },
          "execution_count": 18,
          "metadata": {},
          "output_type": "execute_result"
        }
      ],
      "source": [
        "less_than_3 = metrics_df[metrics_df['metric_full'] < 3]\n",
        "less_than_3.head(5)"
      ]
    },
    {
      "cell_type": "markdown",
      "metadata": {
        "id": "RbI-IhwmHv3S"
      },
      "source": [
        "### По заданному размеру выборки"
      ]
    },
    {
      "cell_type": "code",
      "execution_count": null,
      "metadata": {
        "id": "dnf6tU2zHv3T",
        "outputId": "5a78b6d5-a998-4581-96cb-a33a2676090a"
      },
      "outputs": [
        {
          "data": {
            "text/plain": [
              "0.39620357647695037"
            ]
          },
          "execution_count": 19,
          "metadata": {},
          "output_type": "execute_result"
        }
      ],
      "source": [
        "sample_size = 100 # задаётся менеджером\n",
        "\n",
        "effect_size = power_analysis.solve_power(nobs1=sample_size, power=power, alpha=alpha, alternative='two-sided')\n",
        "effect_size"
      ]
    },
    {
      "cell_type": "code",
      "execution_count": null,
      "metadata": {
        "id": "IOLP3KKHHv3T",
        "outputId": "1971da6d-f586-4757-f9ac-bb070ebe2ac1"
      },
      "outputs": [
        {
          "name": "stdout",
          "output_type": "stream",
          "text": [
            "-0.112\n"
          ]
        }
      ],
      "source": [
        "# переводим MDE в разницу в абсолютных процентах (+5% или -5%)\n",
        "\n",
        "current_share = len(less_than_3) / len(metrics_df)\n",
        "\n",
        "min_effect = (math.sin(math.asin(math.sqrt(current_share)) - (effect_size / 2)) ** 2) - current_share\n",
        "print(round(min_effect, 3)) # в процентах"
      ]
    },
    {
      "cell_type": "code",
      "execution_count": null,
      "metadata": {
        "id": "jCyS4ap0Hv3U",
        "outputId": "f3626d73-c2c8-48da-b1a9-41f7d104d3c6"
      },
      "outputs": [
        {
          "data": {
            "text/plain": [
              "0.39567188781969626"
            ]
          },
          "execution_count": 21,
          "metadata": {},
          "output_type": "execute_result"
        }
      ],
      "source": [
        "# подставим обратно для проверки\n",
        "\n",
        "current_share = len(less_than_3) / len(metrics_df)\n",
        "min_effect = -0.112 # минимальный значимый результат в процентах\n",
        "\n",
        "effect_size = proportion_effectsize(current_share, current_share + min_effect)\n",
        "effect_size"
      ]
    },
    {
      "cell_type": "markdown",
      "metadata": {
        "id": "TzdqD4tDHv3U"
      },
      "source": [
        "#### Визуализируем взаимосвязь MDE и размера выборки:"
      ]
    },
    {
      "cell_type": "code",
      "execution_count": null,
      "metadata": {
        "id": "Usy74q98Hv3V",
        "outputId": "8d19a1d5-428f-43e4-dc48-ab7e2e298754"
      },
      "outputs": [
        {
          "data": {
            "image/png": "[encoded data removed]",
            "text/plain": [
              "<Figure size 720x432 with 1 Axes>"
            ]
          },
          "metadata": {
            "needs_background": "light"
          },
          "output_type": "display_data"
        }
      ],
      "source": [
        "sample_sizes = list(range(50, 5001, 50))\n",
        "\n",
        "effect_sizes = [power_analysis.solve_power(nobs1=sample_size, power=power, alpha=alpha, alternative='two-sided')\n",
        "                for sample_size in sample_sizes]\n",
        "\n",
        "plt.figure(figsize=(10,6))\n",
        "ax = plt.axes()\n",
        "\n",
        "plt.plot(sample_sizes, effect_sizes, color='darkslateblue', linewidth=2.5)\n",
        "plt.title('Зависимость MDE от размера выборки \\n(от 50 до 5 000 наблюдений)', fontsize='large')\n",
        "plt.xlabel('Количество наблюдений в каждой группе', fontsize='large')\n",
        "plt.ylabel('MDE', fontsize='large')\n",
        "ax.set_xticks([50, 1000, 2000, 3000, 4000, 5000])\n",
        "\n",
        "plt.show()"
      ]
    },
    {
      "cell_type": "markdown",
      "metadata": {
        "id": "dP5K_nNxHv3c"
      },
      "source": [
        "### По заданному минимальному эффекту"
      ]
    },
    {
      "cell_type": "code",
      "execution_count": null,
      "metadata": {
        "id": "r9BFlqgwHv3d",
        "outputId": "421d439d-75c9-4799-9b64-cc1dfd5590e8"
      },
      "outputs": [
        {
          "data": {
            "text/plain": [
              "-0.13096861747882615"
            ]
          },
          "execution_count": 23,
          "metadata": {},
          "output_type": "execute_result"
        }
      ],
      "source": [
        "current_share = len(less_than_3) / len(metrics_df)\n",
        "min_effect = 0.05 # минимальный значимый результат в процентах (+5%)\n",
        "\n",
        "effect_size = proportion_effectsize(current_share, current_share + min_effect)\n",
        "\n",
        "effect_size"
      ]
    },
    {
      "cell_type": "code",
      "execution_count": null,
      "metadata": {
        "id": "vBGd1rTYHv3d",
        "outputId": "8f9dba28-a8c9-4378-cce6-a47b304808d2"
      },
      "outputs": [
        {
          "data": {
            "text/plain": [
              "916"
            ]
          },
          "execution_count": 24,
          "metadata": {},
          "output_type": "execute_result"
        }
      ],
      "source": [
        "sample_size = power_analysis.solve_power(effect_size, power=power, alpha=alpha, alternative='two-sided')\n",
        "\n",
        "sample_size = math.ceil(sample_size)\n",
        "sample_size"
      ]
    },
    {
      "cell_type": "markdown",
      "metadata": {
        "id": "-UHIRBEZHv3d"
      },
      "source": [
        "## A/A тест\n",
        "\n",
        "Проверим, что выбранный метод показывает ожидаемую точность и мощность. Для этого проведём тестирование на выборках из данных до вмешательства. Ожидаем, что при альфа=0,05 в 95% случаев тест не отвергнет нулевую гипотезу об отсутствии различий."
      ]
    },
    {
      "cell_type": "code",
      "execution_count": null,
      "metadata": {
        "id": "rJJ6oqj2Hv3e"
      },
      "outputs": [],
      "source": [
        "# делаем первую выборку\n",
        "\n",
        "a_sample, b_sample = metrics_df['metric_full'].sample(sample_size), metrics_df['metric_full'].sample(sample_size)\n",
        "\n",
        "assert len(a_sample) == len(b_sample)"
      ]
    },
    {
      "cell_type": "code",
      "execution_count": null,
      "metadata": {
        "id": "iTpFWcXRHv3e"
      },
      "outputs": [],
      "source": [
        "a = [1 if value < 3 else 0 for value in a_sample]\n",
        "b = [1 if value < 3 else 0 for value in b_sample]"
      ]
    },
    {
      "cell_type": "code",
      "execution_count": null,
      "metadata": {
        "id": "mig6uvBkHv3f",
        "outputId": "8648ad63-5c61-41dc-94ee-7ec4ecec5979"
      },
      "outputs": [
        {
          "data": {
            "text/plain": [
              "(0.4578783630150421, 0.32351991627693727)"
            ]
          },
          "execution_count": 77,
          "metadata": {},
          "output_type": "execute_result"
        }
      ],
      "source": [
        "# проводим тест для неё\n",
        "\n",
        "from statsmodels.stats.proportion import proportions_ztest\n",
        "\n",
        "count = [sum(a), sum(b)]\n",
        "nobs = [len(a), len(b)]\n",
        "\n",
        "proportions_ztest(count, nobs, alternative='larger')"
      ]
    },
    {
      "cell_type": "markdown",
      "metadata": {
        "id": "UNCAsZRrHv3g"
      },
      "source": [
        "P-value больше, чем 0.05, поэтому нет оснований отвергнуть гипотезу о равенстве доли метрик со значением < 3 в каждой из выборок. Теперь симулируем такую проверку несколько раз, чтобы убедиться в надёжности теста и параметров"
      ]
    },
    {
      "cell_type": "code",
      "execution_count": null,
      "metadata": {
        "id": "TfUc33p7Hv3g"
      },
      "outputs": [],
      "source": [
        "def simulate_tests(number_of_simulations):\n",
        "\n",
        "    p_values = []\n",
        "\n",
        "    for i in range(number_of_simulations):\n",
        "\n",
        "        a_sample, b_sample = metrics_df['metric_full'].sample(sample_size), metrics_df['metric_full'].sample(sample_size)\n",
        "        assert len(a_sample) == len(b_sample)\n",
        "\n",
        "        a = [1 if value < 3 else 0 for value in a_sample]\n",
        "        b = [1 if value < 3 else 0 for value in b_sample]\n",
        "\n",
        "        count = [sum(a), sum(b)]\n",
        "        nobs = [len(a), len(b)]\n",
        "\n",
        "        z, p = proportions_ztest(count, nobs, alternative='larger')\n",
        "\n",
        "        p_values.append(p)\n",
        "\n",
        "    return p_values"
      ]
    },
    {
      "cell_type": "code",
      "execution_count": null,
      "metadata": {
        "id": "3XfcL0otHv3h"
      },
      "outputs": [],
      "source": [
        "p_values = simulate_tests(1000)\n",
        "rejections = [1 if p < 0.05 else 0 for p in p_values]  # сколько раз ошибочно отвергли H0"
      ]
    },
    {
      "cell_type": "code",
      "execution_count": null,
      "metadata": {
        "id": "ZIlu_ZR0Hv3h",
        "outputId": "44d82bb6-976f-4950-838f-1df387af6187"
      },
      "outputs": [
        {
          "name": "stdout",
          "output_type": "stream",
          "text": [
            "Число ошибок первого рода: 42\n",
            "Доля ошибок первого рода (оценка вероятности такой ошибки): 0.042\n",
            "ДИ для вероятности ошибки первого рода: [0.03; 0.054]\n"
          ]
        }
      ],
      "source": [
        "from statsmodels.stats.proportion import proportion_confint\n",
        "\n",
        "p_alpha = sum(rejections) / len(rejections) # доля ошибок первого рода\n",
        "ci_lower, ci_higher = proportion_confint(sum(rejections),  len(rejections), alpha=0.05, method='normal')\n",
        "\n",
        "print(f'Число ошибок первого рода: {sum(rejections)}')\n",
        "print(f'Доля ошибок первого рода (оценка вероятности такой ошибки): {p_alpha}')\n",
        "print(f'ДИ для вероятности ошибки первого рода: [{round(ci_lower, 3)}; {round(ci_higher, 3)}]')"
      ]
    },
    {
      "cell_type": "code",
      "execution_count": null,
      "metadata": {
        "id": "GRNu90tCHv3h",
        "outputId": "12bed5f7-c02f-4087-c06d-d64b7586af29"
      },
      "outputs": [
        {
          "data": {
            "image/png": "[encoded data removed]",
            "text/plain": [
              "<Figure size 936x792 with 2 Axes>"
            ]
          },
          "metadata": {
            "needs_background": "light"
          },
          "output_type": "display_data"
        }
      ],
      "source": [
        "# qq plot\n",
        "\n",
        "fig = plt.figure(figsize=(13,11))\n",
        "ax = fig.add_subplot(211)\n",
        "plt.hist(p_values, bins=30, color='slategrey')\n",
        "plt.title('Распределение полученных p-value', fontsize='x-large')\n",
        "plt.xlabel('p-value', fontsize='large')\n",
        "plt.ylabel('Частота', fontsize='large')\n",
        "\n",
        "ax2 = fig.add_subplot(212)\n",
        "stats.probplot(p_values, dist=\"uniform\", plot=plt, fit=True, rvalue=True)\n",
        "plt.title('Q-Q plot', fontsize='x-large')\n",
        "plt.ylabel('Упорядоченные значения', fontsize='large')\n",
        "plt.xlabel('Теоретические квантили', fontsize='large')\n",
        "ax2.get_lines()[0].set_markerfacecolor('slategrey')\n",
        "ax2.get_lines()[0].set_markeredgecolor('slategrey')\n",
        "\n",
        "plt.show()"
      ]
    },
    {
      "cell_type": "markdown",
      "metadata": {
        "id": "BTwdevnIHv3i"
      },
      "source": [
        "Доля ошибок первого рода находится в нужных пределах, а полученные p-value распределены равномерно, что позволяет признать дизайн нашего теста надёжным"
      ]
    },
    {
      "cell_type": "markdown",
      "metadata": {
        "id": "13DJfGUuHv3i"
      },
      "source": [
        "### Код приложения streamlit:"
      ]
    },
    {
      "cell_type": "code",
      "execution_count": null,
      "metadata": {
        "id": "IXzSwr9sHv3j"
      },
      "outputs": [],
      "source": [
        "import math\n",
        "import streamlit as st\n",
        "from statsmodels.stats.power import NormalIndPower\n",
        "from statsmodels.stats.proportion import proportion_effectsize\n",
        "\n",
        "power_analysis = NormalIndPower()\n",
        "\n",
        "st.set_page_config(page_title=\"Калькулятор А/Б теста\",\n",
        "                   page_icon=':abacus:')\n",
        "\n",
        "st.title('Калькулятор минимального эффекта и размера выборки')\n",
        "st.subheader('Выберите тип калькулятора:')\n",
        "\n",
        "tab1, tab2 = st.tabs(['Минимальный эффект по размеру выборки', 'Размер выборки по минимальному эффекту'])\n",
        "\n",
        "with tab1:\n",
        "    alpha1 = 0.05\n",
        "    power1 = 0.8\n",
        "\n",
        "    st.write(\"Уровень значимости: 0.05\")\n",
        "    st.write(\"Мощность: 0.8\")\n",
        "\n",
        "    size = st.slider(\"Размер каждой группы в выборке:\", min_value=10, max_value=30000, value=100, key='s1')\n",
        "    mde = power_analysis.solve_power(nobs1=size, alpha=alpha1, power=power1,\n",
        "                                     ratio=1, alternative='two-sided')\n",
        "\n",
        "    st.metric(label=\"Минимальный детектируемый эффект:\", value=round(mde, 4))\n",
        "    uplift = (math.sin(math.asin(math.sqrt(0.1531)) - (mde / 2)) ** 2) - 0.1531\n",
        "    st.metric(label=\"Для текущего значения в 15,31% \\\"плохих\\\" вакансий минимальная абсоютная разница (± n%) составит:\",\n",
        "              value=f\"{round(abs(uplift) * 100, 2)}%\")\n",
        "\n",
        "with tab2:\n",
        "    alpha2 = 0.05\n",
        "    power2 = 0.8\n",
        "\n",
        "    st.write(\"Уровень значимости: 0.05\")\n",
        "    st.write(\"Мощность: 0.8\")\n",
        "\n",
        "    uplift2 = st.slider(\"Минимальная абсолютная разница в процентах (± n%):\", min_value=0.1, max_value=100.0,\n",
        "                        value=5.0, key='u2')\n",
        "    mde2 = proportion_effectsize(0.1531, 0.1531 + uplift2 / 100)\n",
        "    st.write(\"MDE составит:\", abs(mde2))\n",
        "\n",
        "    sample_size = power_analysis.solve_power(effect_size=mde2, alpha=alpha2, power=power2,\n",
        "                                             ratio=1, alternative='two-sided')\n",
        "\n",
        "    st.metric(\"Минимальный размер каждой группы в выборке:\", math.ceil(sample_size))"
      ]
    }
  ],
  "metadata": {
    "kernelspec": {
      "display_name": "Python 3 (ipykernel)",
      "language": "python",
      "name": "python3"
    },
    "language_info": {
      "codemirror_mode": {
        "name": "ipython",
        "version": 3
      },
      "file_extension": ".py",
      "mimetype": "text/x-python",
      "name": "python",
      "nbconvert_exporter": "python",
      "pygments_lexer": "ipython3",
      "version": "3.7.3"
    },
    "colab": {
      "provenance": [],
      "include_colab_link": true
    }
  },
  "nbformat": 4,
  "nbformat_minor": 0
}
